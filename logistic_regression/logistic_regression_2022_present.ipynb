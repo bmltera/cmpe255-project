{
  "nbformat": 4,
  "nbformat_minor": 0,
  "metadata": {
    "colab": {
      "provenance": []
    },
    "kernelspec": {
      "name": "python3",
      "display_name": "Python 3"
    },
    "language_info": {
      "name": "python"
    }
  },
  "cells": [
    {
      "cell_type": "code",
      "execution_count": 1,
      "metadata": {
        "id": "T_idNs3NP3Is"
      },
      "outputs": [],
      "source": [
        "import pandas as pd\n",
        "import numpy as np\n",
        "from sklearn.model_selection import train_test_split\n",
        "\n",
        "crash_df = pd.read_csv('/content/crashdata2022-present.csv')\n",
        "vehicle_df = pd.read_csv('/content/vehiclecrashdata2022-present.csv')"
      ]
    },
    {
      "cell_type": "code",
      "source": [
        "crash_df.info()"
      ],
      "metadata": {
        "colab": {
          "base_uri": "https://localhost:8080/"
        },
        "id": "nBUMAT9LQGBj",
        "outputId": "c99b991b-8c7b-49eb-ae34-d9ddd5ab0e16"
      },
      "execution_count": 2,
      "outputs": [
        {
          "output_type": "stream",
          "name": "stdout",
          "text": [
            "<class 'pandas.core.frame.DataFrame'>\n",
            "RangeIndex: 11496 entries, 0 to 11495\n",
            "Data columns (total 32 columns):\n",
            " #   Column                     Non-Null Count  Dtype  \n",
            "---  ------                     --------------  -----  \n",
            " 0   CrashFactId                11496 non-null  int64  \n",
            " 1   Name                       11496 non-null  object \n",
            " 2   MinorInjuries              11496 non-null  int64  \n",
            " 3   ModerateInjuries           11496 non-null  int64  \n",
            " 4   SevereInjuries             11496 non-null  int64  \n",
            " 5   FatalInjuries              11496 non-null  int64  \n",
            " 6   TcrNumber                  11496 non-null  object \n",
            " 7   CityDamageFlag             11496 non-null  bool   \n",
            " 8   ShortFormFlag              11496 non-null  bool   \n",
            " 9   Distance                   10895 non-null  float64\n",
            " 10  CrashDateTime              11496 non-null  object \n",
            " 11  PedestrianAction           11496 non-null  object \n",
            " 12  RoadwaySurface             11496 non-null  object \n",
            " 13  RoadwayCondition           11496 non-null  object \n",
            " 14  Lighting                   11496 non-null  object \n",
            " 15  PrimaryCollisionFactor     11496 non-null  object \n",
            " 16  TrafficControl             11496 non-null  object \n",
            " 17  Weather                    11496 non-null  object \n",
            " 18  CollisionType              11496 non-null  object \n",
            " 19  ProximityToIntersection    11496 non-null  object \n",
            " 20  VehicleInvolvedWith        11496 non-null  object \n",
            " 21  PedestrianDirectionFrom    11496 non-null  object \n",
            " 22  PedestrianDirectionTo      11496 non-null  object \n",
            " 23  DirectionFromIntersection  11496 non-null  object \n",
            " 24  Comment                    2526 non-null   object \n",
            " 25  SpeedingFlag               11496 non-null  bool   \n",
            " 26  HitAndRunFlag              11496 non-null  bool   \n",
            " 27  IntersectionNumber         11496 non-null  int64  \n",
            " 28  AStreetName                11496 non-null  object \n",
            " 29  BStreetName                11496 non-null  object \n",
            " 30  Latitude                   11496 non-null  float64\n",
            " 31  Longitude                  11496 non-null  float64\n",
            "dtypes: bool(4), float64(3), int64(6), object(19)\n",
            "memory usage: 2.5+ MB\n"
          ]
        }
      ]
    },
    {
      "cell_type": "code",
      "source": [
        "vehicle_df.info()"
      ],
      "metadata": {
        "colab": {
          "base_uri": "https://localhost:8080/"
        },
        "id": "FdiVi6PEQIqQ",
        "outputId": "c916beeb-bf89-4389-eaab-0bacb744f1b1"
      },
      "execution_count": 3,
      "outputs": [
        {
          "output_type": "stream",
          "name": "stdout",
          "text": [
            "<class 'pandas.core.frame.DataFrame'>\n",
            "RangeIndex: 25694 entries, 0 to 25693\n",
            "Data columns (total 27 columns):\n",
            " #   Column                      Non-Null Count  Dtype  \n",
            "---  ------                      --------------  -----  \n",
            " 0   CrashName                   25694 non-null  object \n",
            " 1   Name                        25694 non-null  object \n",
            " 2   Sex                         18192 non-null  object \n",
            " 3   Age                         25694 non-null  int64  \n",
            " 4   Speed                       0 non-null      float64\n",
            " 5   VehicleDamage               24945 non-null  object \n",
            " 6   PartyCategory               25694 non-null  object \n",
            " 7   Sobriety                    25694 non-null  object \n",
            " 8   VehicleDirection            25694 non-null  object \n",
            " 9   MovementPrecedingCollision  25694 non-null  object \n",
            " 10  PartyType                   25694 non-null  object \n",
            " 11  OtherAssociatedFactor       25694 non-null  object \n",
            " 12  VehicleCount                25694 non-null  int64  \n",
            " 13  ViolationCode               25694 non-null  object \n",
            " 14  ViolationCodeDescription    25694 non-null  object \n",
            " 15  PossibleTransientFlag       25694 non-null  bool   \n",
            " 16  InattentionCodes            25694 non-null  object \n",
            " 17  SafetyEquipment             25694 non-null  object \n",
            " 18  SafetyEquipmentCategory     25694 non-null  object \n",
            " 19  FatalInjuries               25689 non-null  float64\n",
            " 20  SevereInjuries              25686 non-null  float64\n",
            " 21  ModerateInjuries            25686 non-null  float64\n",
            " 22  MinorInjuries               25678 non-null  float64\n",
            " 23  PartySubType                17996 non-null  object \n",
            " 24  Race                        11789 non-null  object \n",
            " 25  VehicleMakeModelType        16232 non-null  object \n",
            " 26  TrailerAttached             17996 non-null  object \n",
            "dtypes: bool(1), float64(5), int64(2), object(19)\n",
            "memory usage: 5.1+ MB\n"
          ]
        }
      ]
    },
    {
      "cell_type": "code",
      "source": [
        "# label encoding CollisionType\n",
        "from sklearn.preprocessing import LabelEncoder\n",
        "\n",
        "le = LabelEncoder()\n",
        "crash_df['CollisionTypeConverted'] = le.fit_transform(crash_df['CollisionType'])\n",
        "crash_df['CollisionTypeConverted']"
      ],
      "metadata": {
        "colab": {
          "base_uri": "https://localhost:8080/",
          "height": 458
        },
        "id": "9RmVVPmQRNI_",
        "outputId": "fdd18e3a-d7e6-4867-dd77-1df013eb8b3b"
      },
      "execution_count": 4,
      "outputs": [
        {
          "output_type": "execute_result",
          "data": {
            "text/plain": [
              "0        5\n",
              "1        5\n",
              "2        5\n",
              "3        3\n",
              "4        7\n",
              "        ..\n",
              "11491    2\n",
              "11492    3\n",
              "11493    6\n",
              "11494    6\n",
              "11495    6\n",
              "Name: CollisionTypeConverted, Length: 11496, dtype: int64"
            ],
            "text/html": [
              "<div>\n",
              "<style scoped>\n",
              "    .dataframe tbody tr th:only-of-type {\n",
              "        vertical-align: middle;\n",
              "    }\n",
              "\n",
              "    .dataframe tbody tr th {\n",
              "        vertical-align: top;\n",
              "    }\n",
              "\n",
              "    .dataframe thead th {\n",
              "        text-align: right;\n",
              "    }\n",
              "</style>\n",
              "<table border=\"1\" class=\"dataframe\">\n",
              "  <thead>\n",
              "    <tr style=\"text-align: right;\">\n",
              "      <th></th>\n",
              "      <th>CollisionTypeConverted</th>\n",
              "    </tr>\n",
              "  </thead>\n",
              "  <tbody>\n",
              "    <tr>\n",
              "      <th>0</th>\n",
              "      <td>5</td>\n",
              "    </tr>\n",
              "    <tr>\n",
              "      <th>1</th>\n",
              "      <td>5</td>\n",
              "    </tr>\n",
              "    <tr>\n",
              "      <th>2</th>\n",
              "      <td>5</td>\n",
              "    </tr>\n",
              "    <tr>\n",
              "      <th>3</th>\n",
              "      <td>3</td>\n",
              "    </tr>\n",
              "    <tr>\n",
              "      <th>4</th>\n",
              "      <td>7</td>\n",
              "    </tr>\n",
              "    <tr>\n",
              "      <th>...</th>\n",
              "      <td>...</td>\n",
              "    </tr>\n",
              "    <tr>\n",
              "      <th>11491</th>\n",
              "      <td>2</td>\n",
              "    </tr>\n",
              "    <tr>\n",
              "      <th>11492</th>\n",
              "      <td>3</td>\n",
              "    </tr>\n",
              "    <tr>\n",
              "      <th>11493</th>\n",
              "      <td>6</td>\n",
              "    </tr>\n",
              "    <tr>\n",
              "      <th>11494</th>\n",
              "      <td>6</td>\n",
              "    </tr>\n",
              "    <tr>\n",
              "      <th>11495</th>\n",
              "      <td>6</td>\n",
              "    </tr>\n",
              "  </tbody>\n",
              "</table>\n",
              "<p>11496 rows × 1 columns</p>\n",
              "</div><br><label><b>dtype:</b> int64</label>"
            ]
          },
          "metadata": {},
          "execution_count": 4
        }
      ]
    },
    {
      "cell_type": "code",
      "source": [
        "# Label encoding for the lighting feature\n",
        "crash_df['LightingConverted'] = le.fit_transform(crash_df['Lighting'])\n",
        "# label encoding for the weather feature\n",
        "crash_df['WeatherConverted'] = le.fit_transform(crash_df['Weather'])\n",
        "# label encoding for the road surface feature\n",
        "crash_df['RoadwaySurfaceConverted'] = le.fit_transform(crash_df['RoadwaySurface'])"
      ],
      "metadata": {
        "id": "JxOQ6Qx0RoJd"
      },
      "execution_count": 5,
      "outputs": []
    },
    {
      "cell_type": "code",
      "source": [
        "# convert 'MinorInjuries', 'ModerateInjuries', 'SevereInjuries', 'FatalInjuries' columns to a single column\n",
        "crash_df['Severity'] = np.argmax(crash_df[['MinorInjuries', 'ModerateInjuries', 'SevereInjuries', 'FatalInjuries']], axis=1)\n",
        "crash_df['Severity'].describe()"
      ],
      "metadata": {
        "colab": {
          "base_uri": "https://localhost:8080/",
          "height": 335
        },
        "id": "Oh1eK16gRv4o",
        "outputId": "e2794aa5-d2bf-4e8d-ad8b-56fa87c9d10f"
      },
      "execution_count": 6,
      "outputs": [
        {
          "output_type": "execute_result",
          "data": {
            "text/plain": [
              "count    11496.000000\n",
              "mean         0.196590\n",
              "std          0.524453\n",
              "min          0.000000\n",
              "25%          0.000000\n",
              "50%          0.000000\n",
              "75%          0.000000\n",
              "max          3.000000\n",
              "Name: Severity, dtype: float64"
            ],
            "text/html": [
              "<div>\n",
              "<style scoped>\n",
              "    .dataframe tbody tr th:only-of-type {\n",
              "        vertical-align: middle;\n",
              "    }\n",
              "\n",
              "    .dataframe tbody tr th {\n",
              "        vertical-align: top;\n",
              "    }\n",
              "\n",
              "    .dataframe thead th {\n",
              "        text-align: right;\n",
              "    }\n",
              "</style>\n",
              "<table border=\"1\" class=\"dataframe\">\n",
              "  <thead>\n",
              "    <tr style=\"text-align: right;\">\n",
              "      <th></th>\n",
              "      <th>Severity</th>\n",
              "    </tr>\n",
              "  </thead>\n",
              "  <tbody>\n",
              "    <tr>\n",
              "      <th>count</th>\n",
              "      <td>11496.000000</td>\n",
              "    </tr>\n",
              "    <tr>\n",
              "      <th>mean</th>\n",
              "      <td>0.196590</td>\n",
              "    </tr>\n",
              "    <tr>\n",
              "      <th>std</th>\n",
              "      <td>0.524453</td>\n",
              "    </tr>\n",
              "    <tr>\n",
              "      <th>min</th>\n",
              "      <td>0.000000</td>\n",
              "    </tr>\n",
              "    <tr>\n",
              "      <th>25%</th>\n",
              "      <td>0.000000</td>\n",
              "    </tr>\n",
              "    <tr>\n",
              "      <th>50%</th>\n",
              "      <td>0.000000</td>\n",
              "    </tr>\n",
              "    <tr>\n",
              "      <th>75%</th>\n",
              "      <td>0.000000</td>\n",
              "    </tr>\n",
              "    <tr>\n",
              "      <th>max</th>\n",
              "      <td>3.000000</td>\n",
              "    </tr>\n",
              "  </tbody>\n",
              "</table>\n",
              "</div><br><label><b>dtype:</b> float64</label>"
            ]
          },
          "metadata": {},
          "execution_count": 6
        }
      ]
    },
    {
      "cell_type": "code",
      "source": [
        "# convert datatype of CrashDateTime column into numerical values\n",
        "\n",
        "def map_hour_to_group(hour):\n",
        "  if hour >= 0 and hour < 4:\n",
        "    return 0\n",
        "  elif hour >= 4 and hour < 8:\n",
        "    return 1\n",
        "  elif hour >= 8 and hour < 12:\n",
        "    return 2\n",
        "  elif hour >= 12 and hour < 16:\n",
        "    return 3\n",
        "  elif hour >=16  and hour < 20:\n",
        "    return 4\n",
        "  elif hour >= 20 and hour < 24:\n",
        "    return 5\n",
        "\n",
        "crash_df['CrashHour'] = pd.to_datetime(crash_df['CrashDateTime']).dt.hour\n",
        "crash_df['CrashHourGroup'] = crash_df['CrashHour'].apply(map_hour_to_group)\n",
        "crash_df['CrashHourGroup']"
      ],
      "metadata": {
        "colab": {
          "base_uri": "https://localhost:8080/",
          "height": 514
        },
        "id": "pO9n2FVBRzXJ",
        "outputId": "c683a559-df18-4f21-ae74-60519c7253d0"
      },
      "execution_count": 7,
      "outputs": [
        {
          "output_type": "stream",
          "name": "stderr",
          "text": [
            "<ipython-input-7-7bbc2a142cb7>:17: UserWarning: Could not infer format, so each element will be parsed individually, falling back to `dateutil`. To ensure parsing is consistent and as-expected, please specify a format.\n",
            "  crash_df['CrashHour'] = pd.to_datetime(crash_df['CrashDateTime']).dt.hour\n"
          ]
        },
        {
          "output_type": "execute_result",
          "data": {
            "text/plain": [
              "0        3\n",
              "1        5\n",
              "2        5\n",
              "3        2\n",
              "4        4\n",
              "        ..\n",
              "11491    5\n",
              "11492    5\n",
              "11493    3\n",
              "11494    3\n",
              "11495    4\n",
              "Name: CrashHourGroup, Length: 11496, dtype: int64"
            ],
            "text/html": [
              "<div>\n",
              "<style scoped>\n",
              "    .dataframe tbody tr th:only-of-type {\n",
              "        vertical-align: middle;\n",
              "    }\n",
              "\n",
              "    .dataframe tbody tr th {\n",
              "        vertical-align: top;\n",
              "    }\n",
              "\n",
              "    .dataframe thead th {\n",
              "        text-align: right;\n",
              "    }\n",
              "</style>\n",
              "<table border=\"1\" class=\"dataframe\">\n",
              "  <thead>\n",
              "    <tr style=\"text-align: right;\">\n",
              "      <th></th>\n",
              "      <th>CrashHourGroup</th>\n",
              "    </tr>\n",
              "  </thead>\n",
              "  <tbody>\n",
              "    <tr>\n",
              "      <th>0</th>\n",
              "      <td>3</td>\n",
              "    </tr>\n",
              "    <tr>\n",
              "      <th>1</th>\n",
              "      <td>5</td>\n",
              "    </tr>\n",
              "    <tr>\n",
              "      <th>2</th>\n",
              "      <td>5</td>\n",
              "    </tr>\n",
              "    <tr>\n",
              "      <th>3</th>\n",
              "      <td>2</td>\n",
              "    </tr>\n",
              "    <tr>\n",
              "      <th>4</th>\n",
              "      <td>4</td>\n",
              "    </tr>\n",
              "    <tr>\n",
              "      <th>...</th>\n",
              "      <td>...</td>\n",
              "    </tr>\n",
              "    <tr>\n",
              "      <th>11491</th>\n",
              "      <td>5</td>\n",
              "    </tr>\n",
              "    <tr>\n",
              "      <th>11492</th>\n",
              "      <td>5</td>\n",
              "    </tr>\n",
              "    <tr>\n",
              "      <th>11493</th>\n",
              "      <td>3</td>\n",
              "    </tr>\n",
              "    <tr>\n",
              "      <th>11494</th>\n",
              "      <td>3</td>\n",
              "    </tr>\n",
              "    <tr>\n",
              "      <th>11495</th>\n",
              "      <td>4</td>\n",
              "    </tr>\n",
              "  </tbody>\n",
              "</table>\n",
              "<p>11496 rows × 1 columns</p>\n",
              "</div><br><label><b>dtype:</b> int64</label>"
            ]
          },
          "metadata": {},
          "execution_count": 7
        }
      ]
    },
    {
      "cell_type": "code",
      "source": [
        "# combine crash_df and vehicle_df using \"Name\" and \"CrashName\"\n",
        "merged_df = pd.merge(crash_df, vehicle_df, left_on='Name', right_on='CrashName', how='left')\n",
        "merged_df.info()"
      ],
      "metadata": {
        "colab": {
          "base_uri": "https://localhost:8080/"
        },
        "id": "4vzyLcKQXjfp",
        "outputId": "3e1367d4-24ac-4b83-eab6-eafb82b3d724"
      },
      "execution_count": 8,
      "outputs": [
        {
          "output_type": "stream",
          "name": "stdout",
          "text": [
            "<class 'pandas.core.frame.DataFrame'>\n",
            "RangeIndex: 23735 entries, 0 to 23734\n",
            "Data columns (total 66 columns):\n",
            " #   Column                      Non-Null Count  Dtype  \n",
            "---  ------                      --------------  -----  \n",
            " 0   CrashFactId                 23735 non-null  int64  \n",
            " 1   Name_x                      23735 non-null  object \n",
            " 2   MinorInjuries_x             23735 non-null  int64  \n",
            " 3   ModerateInjuries_x          23735 non-null  int64  \n",
            " 4   SevereInjuries_x            23735 non-null  int64  \n",
            " 5   FatalInjuries_x             23735 non-null  int64  \n",
            " 6   TcrNumber                   23735 non-null  object \n",
            " 7   CityDamageFlag              23735 non-null  bool   \n",
            " 8   ShortFormFlag               23735 non-null  bool   \n",
            " 9   Distance                    22507 non-null  float64\n",
            " 10  CrashDateTime               23735 non-null  object \n",
            " 11  PedestrianAction            23735 non-null  object \n",
            " 12  RoadwaySurface              23735 non-null  object \n",
            " 13  RoadwayCondition            23735 non-null  object \n",
            " 14  Lighting                    23735 non-null  object \n",
            " 15  PrimaryCollisionFactor      23735 non-null  object \n",
            " 16  TrafficControl              23735 non-null  object \n",
            " 17  Weather                     23735 non-null  object \n",
            " 18  CollisionType               23735 non-null  object \n",
            " 19  ProximityToIntersection     23735 non-null  object \n",
            " 20  VehicleInvolvedWith         23735 non-null  object \n",
            " 21  PedestrianDirectionFrom     23735 non-null  object \n",
            " 22  PedestrianDirectionTo       23735 non-null  object \n",
            " 23  DirectionFromIntersection   23735 non-null  object \n",
            " 24  Comment                     4252 non-null   object \n",
            " 25  SpeedingFlag                23735 non-null  bool   \n",
            " 26  HitAndRunFlag               23735 non-null  bool   \n",
            " 27  IntersectionNumber          23735 non-null  int64  \n",
            " 28  AStreetName                 23735 non-null  object \n",
            " 29  BStreetName                 23735 non-null  object \n",
            " 30  Latitude                    23735 non-null  float64\n",
            " 31  Longitude                   23735 non-null  float64\n",
            " 32  CollisionTypeConverted      23735 non-null  int64  \n",
            " 33  LightingConverted           23735 non-null  int64  \n",
            " 34  WeatherConverted            23735 non-null  int64  \n",
            " 35  RoadwaySurfaceConverted     23735 non-null  int64  \n",
            " 36  Severity                    23735 non-null  int64  \n",
            " 37  CrashHour                   23735 non-null  int32  \n",
            " 38  CrashHourGroup              23735 non-null  int64  \n",
            " 39  CrashName                   23734 non-null  object \n",
            " 40  Name_y                      23734 non-null  object \n",
            " 41  Sex                         16891 non-null  object \n",
            " 42  Age                         23734 non-null  float64\n",
            " 43  Speed                       0 non-null      float64\n",
            " 44  VehicleDamage               23029 non-null  object \n",
            " 45  PartyCategory               23734 non-null  object \n",
            " 46  Sobriety                    23734 non-null  object \n",
            " 47  VehicleDirection            23734 non-null  object \n",
            " 48  MovementPrecedingCollision  23734 non-null  object \n",
            " 49  PartyType                   23734 non-null  object \n",
            " 50  OtherAssociatedFactor       23734 non-null  object \n",
            " 51  VehicleCount                23734 non-null  float64\n",
            " 52  ViolationCode               23734 non-null  object \n",
            " 53  ViolationCodeDescription    23734 non-null  object \n",
            " 54  PossibleTransientFlag       23734 non-null  object \n",
            " 55  InattentionCodes            23734 non-null  object \n",
            " 56  SafetyEquipment             23734 non-null  object \n",
            " 57  SafetyEquipmentCategory     23734 non-null  object \n",
            " 58  FatalInjuries_y             23729 non-null  float64\n",
            " 59  SevereInjuries_y            23726 non-null  float64\n",
            " 60  ModerateInjuries_y          23726 non-null  float64\n",
            " 61  MinorInjuries_y             23718 non-null  float64\n",
            " 62  PartySubType                16036 non-null  object \n",
            " 63  Race                        10532 non-null  object \n",
            " 64  VehicleMakeModelType        14437 non-null  object \n",
            " 65  TrailerAttached             16036 non-null  object \n",
            "dtypes: bool(4), float64(10), int32(1), int64(12), object(39)\n",
            "memory usage: 11.2+ MB\n"
          ]
        }
      ]
    },
    {
      "cell_type": "code",
      "source": [
        "# label encoding for the Sobriety\n",
        "merged_df['SobrietyConverted'] = le.fit_transform(merged_df['Sobriety'])\n",
        "# label encoding for the Sex\n",
        "merged_df['SexConverted'] = le.fit_transform(merged_df['Sex'])"
      ],
      "metadata": {
        "id": "3oDFcn1Jk0cD"
      },
      "execution_count": 9,
      "outputs": []
    },
    {
      "cell_type": "code",
      "source": [
        "from sklearn.model_selection import train_test_split\n",
        "\n",
        "# Extract feature and target arrays\n",
        "X, y = merged_df[['Severity','CityDamageFlag', 'CrashHourGroup', 'RoadwaySurfaceConverted', 'LightingConverted', 'WeatherConverted', 'CollisionTypeConverted', 'SpeedingFlag', 'SexConverted','SobrietyConverted']], merged_df['HitAndRunFlag']\n"
      ],
      "metadata": {
        "id": "lL7haL6-R9hn"
      },
      "execution_count": 10,
      "outputs": []
    },
    {
      "cell_type": "code",
      "source": [
        "# Check information of X\n",
        "X.info()"
      ],
      "metadata": {
        "colab": {
          "base_uri": "https://localhost:8080/"
        },
        "id": "VSFVKre0dHUm",
        "outputId": "c562a0ac-7235-4802-ed68-a7c2eb2fcca3"
      },
      "execution_count": 11,
      "outputs": [
        {
          "output_type": "stream",
          "name": "stdout",
          "text": [
            "<class 'pandas.core.frame.DataFrame'>\n",
            "RangeIndex: 23735 entries, 0 to 23734\n",
            "Data columns (total 10 columns):\n",
            " #   Column                   Non-Null Count  Dtype\n",
            "---  ------                   --------------  -----\n",
            " 0   Severity                 23735 non-null  int64\n",
            " 1   CityDamageFlag           23735 non-null  bool \n",
            " 2   CrashHourGroup           23735 non-null  int64\n",
            " 3   RoadwaySurfaceConverted  23735 non-null  int64\n",
            " 4   LightingConverted        23735 non-null  int64\n",
            " 5   WeatherConverted         23735 non-null  int64\n",
            " 6   CollisionTypeConverted   23735 non-null  int64\n",
            " 7   SpeedingFlag             23735 non-null  bool \n",
            " 8   SexConverted             23735 non-null  int64\n",
            " 9   SobrietyConverted        23735 non-null  int64\n",
            "dtypes: bool(2), int64(8)\n",
            "memory usage: 1.5 MB\n"
          ]
        }
      ]
    },
    {
      "cell_type": "code",
      "source": [
        "# Split the data\n",
        "X_train, X_test, y_train, y_test = train_test_split(X, y, test_size=0.25, random_state=42)"
      ],
      "metadata": {
        "id": "7GDjQGqVh8-0"
      },
      "execution_count": 12,
      "outputs": []
    },
    {
      "cell_type": "code",
      "source": [
        "# !pip install xgboost"
      ],
      "metadata": {
        "id": "DT3wqG5sjOgm"
      },
      "execution_count": 13,
      "outputs": []
    },
    {
      "cell_type": "code",
      "source": [
        "# Create and apply logistic regression model\n",
        "from sklearn.linear_model import LogisticRegression\n",
        "\n",
        "# instantiate the model (using the default parameters)\n",
        "lr = LogisticRegression(random_state=42)\n",
        "\n",
        "# fit the model with data\n",
        "lr.fit(X_train, y_train)\n",
        "\n",
        "y_pred = lr.predict(X_test)\n",
        "\n",
        "y_pred"
      ],
      "metadata": {
        "id": "G6CrNJK7iaLM",
        "colab": {
          "base_uri": "https://localhost:8080/"
        },
        "outputId": "e527f878-dcab-4605-b29b-a59b1e7f5031"
      },
      "execution_count": 14,
      "outputs": [
        {
          "output_type": "execute_result",
          "data": {
            "text/plain": [
              "array([False, False, False, ...,  True,  True, False])"
            ]
          },
          "metadata": {},
          "execution_count": 14
        }
      ]
    },
    {
      "cell_type": "code",
      "source": [
        "from sklearn.metrics import accuracy_score,confusion_matrix, ConfusionMatrixDisplay\n",
        "accuracy = accuracy_score(y_test, y_pred)*100\n",
        "print(\"Accuracy Score: \" + str(accuracy))"
      ],
      "metadata": {
        "colab": {
          "base_uri": "https://localhost:8080/"
        },
        "id": "JU3mMxyJ4jTh",
        "outputId": "0fa06b5b-e0ec-4170-e454-de5b5b7f9ac2"
      },
      "execution_count": 15,
      "outputs": [
        {
          "output_type": "stream",
          "name": "stdout",
          "text": [
            "Accuracy Score: 75.88473205257836\n"
          ]
        }
      ]
    },
    {
      "cell_type": "code",
      "source": [
        "from sklearn.metrics import accuracy_score, precision_score, recall_score, f1_score\n",
        "\n",
        "print(\"Logistic Regression with (2022-present crash / vehicles datasets)\")\n",
        "\n",
        "# Calculate accuracy\n",
        "accuracy = accuracy_score(y_test, y_pred)\n",
        "print(\"Accuracy:\", accuracy)\n",
        "\n",
        "# Calculate precision\n",
        "precision = precision_score(y_test, y_pred)\n",
        "print(\"Precision:\", precision)\n",
        "\n",
        "# Calculate recall (sensitivity)\n",
        "recall = recall_score(y_test, y_pred)\n",
        "print(\"Recall (Sensitivity):\", recall)\n",
        "\n",
        "# Calculate F1-score\n",
        "f1 = f1_score(y_test, y_pred)\n",
        "print(\"F1-Score:\", f1)"
      ],
      "metadata": {
        "colab": {
          "base_uri": "https://localhost:8080/"
        },
        "id": "7FD_Jb8GqRXm",
        "outputId": "a20b3a70-4b0c-4da4-dfe3-2f46a6a7a2a2"
      },
      "execution_count": 17,
      "outputs": [
        {
          "output_type": "stream",
          "name": "stdout",
          "text": [
            "Logistic Regression with (2022-present crash / vehicles datasets)\n",
            "Accuracy: 0.7588473205257836\n",
            "Precision: 0.6140888208269525\n",
            "Recall (Sensitivity): 0.2537974683544304\n",
            "F1-Score: 0.35915808329601434\n"
          ]
        }
      ]
    },
    {
      "cell_type": "code",
      "source": [
        "import matplotlib.pyplot as plt\n",
        "cm = confusion_matrix(y_test, y_pred, labels=lr.classes_)\n",
        "disp = ConfusionMatrixDisplay(confusion_matrix=cm,\n",
        "                              display_labels=lr.classes_)\n",
        "disp.plot()"
      ],
      "metadata": {
        "colab": {
          "base_uri": "https://localhost:8080/",
          "height": 467
        },
        "id": "TWT_K79Y3LQ_",
        "outputId": "e2dc2306-c974-4f96-8e61-b72c986c4f97"
      },
      "execution_count": 19,
      "outputs": [
        {
          "output_type": "execute_result",
          "data": {
            "text/plain": [
              "<sklearn.metrics._plot.confusion_matrix.ConfusionMatrixDisplay at 0x7d2ea75bc1c0>"
            ]
          },
          "metadata": {},
          "execution_count": 19
        },
        {
          "output_type": "display_data",
          "data": {
            "text/plain": [
              "<Figure size 640x480 with 2 Axes>"
            ],
            "image/png": "[encoded data removed]"
          },
          "metadata": {}
        }
      ]
    },
    {
      "cell_type": "code",
      "source": [
        "importances = lr.coef_[0]\n",
        "feature_names = X_train.columns\n",
        "\n",
        "indices = np.argsort(np.abs(importances))[::-1]\n",
        "\n",
        "plt.figure(figsize=(10, 6))\n",
        "plt.title('Feature Importances (Logistic Regression)')\n",
        "plt.barh(range(len(indices)), importances[indices], color='b', align='center')\n",
        "plt.yticks(range(len(indices)), [feature_names[i] for i in indices])\n",
        "plt.xlabel('Coefficient Value')\n",
        "plt.show()"
      ],
      "metadata": {
        "id": "Aw8661_43zOe",
        "colab": {
          "base_uri": "https://localhost:8080/",
          "height": 564
        },
        "outputId": "9c161ad4-d1e7-4ec4-93ee-6556662c4671"
      },
      "execution_count": null,
      "outputs": [
        {
          "output_type": "display_data",
          "data": {
            "text/plain": [
              "<Figure size 1000x600 with 1 Axes>"
            ],
            "image/png": "[encoded data removed]"
          },
          "metadata": {}
        }
      ]
    },
    {
      "cell_type": "code",
      "source": [
        "merged_df['HitAndRunFlag'].value_counts()"
      ],
      "metadata": {
        "colab": {
          "base_uri": "https://localhost:8080/",
          "height": 178
        },
        "id": "Ckp_aw8gMV_7",
        "outputId": "7599692e-7d91-482b-c56b-a7e9d0d494a8"
      },
      "execution_count": null,
      "outputs": [
        {
          "output_type": "execute_result",
          "data": {
            "text/plain": [
              "HitAndRunFlag\n",
              "False    17499\n",
              "True      6236\n",
              "Name: count, dtype: int64"
            ],
            "text/html": [
              "<div>\n",
              "<style scoped>\n",
              "    .dataframe tbody tr th:only-of-type {\n",
              "        vertical-align: middle;\n",
              "    }\n",
              "\n",
              "    .dataframe tbody tr th {\n",
              "        vertical-align: top;\n",
              "    }\n",
              "\n",
              "    .dataframe thead th {\n",
              "        text-align: right;\n",
              "    }\n",
              "</style>\n",
              "<table border=\"1\" class=\"dataframe\">\n",
              "  <thead>\n",
              "    <tr style=\"text-align: right;\">\n",
              "      <th></th>\n",
              "      <th>count</th>\n",
              "    </tr>\n",
              "    <tr>\n",
              "      <th>HitAndRunFlag</th>\n",
              "      <th></th>\n",
              "    </tr>\n",
              "  </thead>\n",
              "  <tbody>\n",
              "    <tr>\n",
              "      <th>False</th>\n",
              "      <td>17499</td>\n",
              "    </tr>\n",
              "    <tr>\n",
              "      <th>True</th>\n",
              "      <td>6236</td>\n",
              "    </tr>\n",
              "  </tbody>\n",
              "</table>\n",
              "</div><br><label><b>dtype:</b> int64</label>"
            ]
          },
          "metadata": {},
          "execution_count": 47
        }
      ]
    },
    {
      "cell_type": "code",
      "source": [],
      "metadata": {
        "id": "zrdJb83EQLqN"
      },
      "execution_count": null,
      "outputs": []
    }
  ]
}