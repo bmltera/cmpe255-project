{
  "nbformat": 4,
  "nbformat_minor": 0,
  "metadata": {
    "colab": {
      "provenance": []
    },
    "kernelspec": {
      "name": "python3",
      "display_name": "Python 3"
    },
    "language_info": {
      "name": "python"
    }
  },
  "cells": [
    {
      "cell_type": "code",
      "execution_count": 1,
      "metadata": {
        "colab": {
          "base_uri": "https://localhost:8080/",
          "height": 360
        },
        "id": "tgAO2vhsus8k",
        "outputId": "616a4caa-54f0-46b9-f41f-b9c4454ee37c"
      },
      "outputs": [
        {
          "output_type": "execute_result",
          "data": {
            "text/plain": [
              "   Unnamed: 0  CrashFactId           Name  MinorInjuries  ModerateInjuries  \\\n",
              "0           0       711791  CR-0000100908              2                 0   \n",
              "1           1       692417  CR-0000097700              1                 0   \n",
              "2           5       690758  CR-0000096895              0                 0   \n",
              "3           6       711585  CR-0000101205              0                 0   \n",
              "4           8       691267  CR-0000097512              0                 0   \n",
              "\n",
              "   SevereInjuries  FatalInjuries    TcrNumber  CityDamageFlag  ShortFormFlag  \\\n",
              "0               0              0  23-306-0529           False          False   \n",
              "1               0              0  23-081-0828           False          False   \n",
              "2               0              0  23-015-0781           False          False   \n",
              "3               0              0  23-333-0469           False          False   \n",
              "4               0              0  23-058-9704           False           True   \n",
              "\n",
              "   ...  PedestrianDirectionTo DirectionFromIntersection           Comment  \\\n",
              "0  ...         Not Applicable                   East Of               NaN   \n",
              "1  ...         Not Applicable                  South Of               NaN   \n",
              "2  ...         Not Applicable                        At               NaN   \n",
              "3  ...         Not Applicable                        At  PED(WHEEL CHAIR)   \n",
              "4  ...         Not Applicable                  South Of               NaN   \n",
              "\n",
              "  SpeedingFlag HitAndRunFlag IntersectionNumber  AStreetName     BStreetName  \\\n",
              "0         True         False             110241  SPRUANCE ST  WHITETHORNE DR   \n",
              "1         True         False              22770   BOYNTON AV     CAPE COD CT   \n",
              "2        False         False              22846   BOYNTON AV        RHODA DR   \n",
              "3        False         False              22846   BOYNTON AV        RHODA DR   \n",
              "4        False         False              22912   BOYNTON AV    WOODCREEK LN   \n",
              "\n",
              "    Latitude   Longitude  \n",
              "0  37.300611 -121.936797  \n",
              "1  37.302711 -121.966043  \n",
              "2  37.304815 -121.966041  \n",
              "3  37.304815 -121.966041  \n",
              "4  37.304097 -121.966049  \n",
              "\n",
              "[5 rows x 33 columns]"
            ],
            "text/html": [
              "\n",
              "  <div id=\"df-65269f48-8cf4-4e6a-85ac-6fb149b93911\" class=\"colab-df-container\">\n",
              "    <div>\n",
              "<style scoped>\n",
              "    .dataframe tbody tr th:only-of-type {\n",
              "        vertical-align: middle;\n",
              "    }\n",
              "\n",
              "    .dataframe tbody tr th {\n",
              "        vertical-align: top;\n",
              "    }\n",
              "\n",
              "    .dataframe thead th {\n",
              "        text-align: right;\n",
              "    }\n",
              "</style>\n",
              "<table border=\"1\" class=\"dataframe\">\n",
              "  <thead>\n",
              "    <tr style=\"text-align: right;\">\n",
              "      <th></th>\n",
              "      <th>Unnamed: 0</th>\n",
              "      <th>CrashFactId</th>\n",
              "      <th>Name</th>\n",
              "      <th>MinorInjuries</th>\n",
              "      <th>ModerateInjuries</th>\n",
              "      <th>SevereInjuries</th>\n",
              "      <th>FatalInjuries</th>\n",
              "      <th>TcrNumber</th>\n",
              "      <th>CityDamageFlag</th>\n",
              "      <th>ShortFormFlag</th>\n",
              "      <th>...</th>\n",
              "      <th>PedestrianDirectionTo</th>\n",
              "      <th>DirectionFromIntersection</th>\n",
              "      <th>Comment</th>\n",
              "      <th>SpeedingFlag</th>\n",
              "      <th>HitAndRunFlag</th>\n",
              "      <th>IntersectionNumber</th>\n",
              "      <th>AStreetName</th>\n",
              "      <th>BStreetName</th>\n",
              "      <th>Latitude</th>\n",
              "      <th>Longitude</th>\n",
              "    </tr>\n",
              "  </thead>\n",
              "  <tbody>\n",
              "    <tr>\n",
              "      <th>0</th>\n",
              "      <td>0</td>\n",
              "      <td>711791</td>\n",
              "      <td>CR-0000100908</td>\n",
              "      <td>2</td>\n",
              "      <td>0</td>\n",
              "      <td>0</td>\n",
              "      <td>0</td>\n",
              "      <td>23-306-0529</td>\n",
              "      <td>False</td>\n",
              "      <td>False</td>\n",
              "      <td>...</td>\n",
              "      <td>Not Applicable</td>\n",
              "      <td>East Of</td>\n",
              "      <td>NaN</td>\n",
              "      <td>True</td>\n",
              "      <td>False</td>\n",
              "      <td>110241</td>\n",
              "      <td>SPRUANCE ST</td>\n",
              "      <td>WHITETHORNE DR</td>\n",
              "      <td>37.300611</td>\n",
              "      <td>-121.936797</td>\n",
              "    </tr>\n",
              "    <tr>\n",
              "      <th>1</th>\n",
              "      <td>1</td>\n",
              "      <td>692417</td>\n",
              "      <td>CR-0000097700</td>\n",
              "      <td>1</td>\n",
              "      <td>0</td>\n",
              "      <td>0</td>\n",
              "      <td>0</td>\n",
              "      <td>23-081-0828</td>\n",
              "      <td>False</td>\n",
              "      <td>False</td>\n",
              "      <td>...</td>\n",
              "      <td>Not Applicable</td>\n",
              "      <td>South Of</td>\n",
              "      <td>NaN</td>\n",
              "      <td>True</td>\n",
              "      <td>False</td>\n",
              "      <td>22770</td>\n",
              "      <td>BOYNTON AV</td>\n",
              "      <td>CAPE COD CT</td>\n",
              "      <td>37.302711</td>\n",
              "      <td>-121.966043</td>\n",
              "    </tr>\n",
              "    <tr>\n",
              "      <th>2</th>\n",
              "      <td>5</td>\n",
              "      <td>690758</td>\n",
              "      <td>CR-0000096895</td>\n",
              "      <td>0</td>\n",
              "      <td>0</td>\n",
              "      <td>0</td>\n",
              "      <td>0</td>\n",
              "      <td>23-015-0781</td>\n",
              "      <td>False</td>\n",
              "      <td>False</td>\n",
              "      <td>...</td>\n",
              "      <td>Not Applicable</td>\n",
              "      <td>At</td>\n",
              "      <td>NaN</td>\n",
              "      <td>False</td>\n",
              "      <td>False</td>\n",
              "      <td>22846</td>\n",
              "      <td>BOYNTON AV</td>\n",
              "      <td>RHODA DR</td>\n",
              "      <td>37.304815</td>\n",
              "      <td>-121.966041</td>\n",
              "    </tr>\n",
              "    <tr>\n",
              "      <th>3</th>\n",
              "      <td>6</td>\n",
              "      <td>711585</td>\n",
              "      <td>CR-0000101205</td>\n",
              "      <td>0</td>\n",
              "      <td>0</td>\n",
              "      <td>0</td>\n",
              "      <td>0</td>\n",
              "      <td>23-333-0469</td>\n",
              "      <td>False</td>\n",
              "      <td>False</td>\n",
              "      <td>...</td>\n",
              "      <td>Not Applicable</td>\n",
              "      <td>At</td>\n",
              "      <td>PED(WHEEL CHAIR)</td>\n",
              "      <td>False</td>\n",
              "      <td>False</td>\n",
              "      <td>22846</td>\n",
              "      <td>BOYNTON AV</td>\n",
              "      <td>RHODA DR</td>\n",
              "      <td>37.304815</td>\n",
              "      <td>-121.966041</td>\n",
              "    </tr>\n",
              "    <tr>\n",
              "      <th>4</th>\n",
              "      <td>8</td>\n",
              "      <td>691267</td>\n",
              "      <td>CR-0000097512</td>\n",
              "      <td>0</td>\n",
              "      <td>0</td>\n",
              "      <td>0</td>\n",
              "      <td>0</td>\n",
              "      <td>23-058-9704</td>\n",
              "      <td>False</td>\n",
              "      <td>True</td>\n",
              "      <td>...</td>\n",
              "      <td>Not Applicable</td>\n",
              "      <td>South Of</td>\n",
              "      <td>NaN</td>\n",
              "      <td>False</td>\n",
              "      <td>False</td>\n",
              "      <td>22912</td>\n",
              "      <td>BOYNTON AV</td>\n",
              "      <td>WOODCREEK LN</td>\n",
              "      <td>37.304097</td>\n",
              "      <td>-121.966049</td>\n",
              "    </tr>\n",
              "  </tbody>\n",
              "</table>\n",
              "<p>5 rows × 33 columns</p>\n",
              "</div>\n",
              "    <div class=\"colab-df-buttons\">\n",
              "\n",
              "  <div class=\"colab-df-container\">\n",
              "    <button class=\"colab-df-convert\" onclick=\"convertToInteractive('df-65269f48-8cf4-4e6a-85ac-6fb149b93911')\"\n",
              "            title=\"Convert this dataframe to an interactive table.\"\n",
              "            style=\"display:none;\">\n",
              "\n",
              "  <svg xmlns=\"http://www.w3.org/2000/svg\" height=\"24px\" viewBox=\"0 -960 960 960\">\n",
              "    <path d=\"M120-120v-720h720v720H120Zm60-500h600v-160H180v160Zm220 220h160v-160H400v160Zm0 220h160v-160H400v160ZM180-400h160v-160H180v160Zm440 0h160v-160H620v160ZM180-180h160v-160H180v160Zm440 0h160v-160H620v160Z\"/>\n",
              "  </svg>\n",
              "    </button>\n",
              "\n",
              "  <style>\n",
              "    .colab-df-container {\n",
              "      display:flex;\n",
              "      gap: 12px;\n",
              "    }\n",
              "\n",
              "    .colab-df-convert {\n",
              "      background-color: #E8F0FE;\n",
              "      border: none;\n",
              "      border-radius: 50%;\n",
              "      cursor: pointer;\n",
              "      display: none;\n",
              "      fill: #1967D2;\n",
              "      height: 32px;\n",
              "      padding: 0 0 0 0;\n",
              "      width: 32px;\n",
              "    }\n",
              "\n",
              "    .colab-df-convert:hover {\n",
              "      background-color: #E2EBFA;\n",
              "      box-shadow: 0px 1px 2px rgba(60, 64, 67, 0.3), 0px 1px 3px 1px rgba(60, 64, 67, 0.15);\n",
              "      fill: #174EA6;\n",
              "    }\n",
              "\n",
              "    .colab-df-buttons div {\n",
              "      margin-bottom: 4px;\n",
              "    }\n",
              "\n",
              "    [theme=dark] .colab-df-convert {\n",
              "      background-color: #3B4455;\n",
              "      fill: #D2E3FC;\n",
              "    }\n",
              "\n",
              "    [theme=dark] .colab-df-convert:hover {\n",
              "      background-color: #434B5C;\n",
              "      box-shadow: 0px 1px 3px 1px rgba(0, 0, 0, 0.15);\n",
              "      filter: drop-shadow(0px 1px 2px rgba(0, 0, 0, 0.3));\n",
              "      fill: #FFFFFF;\n",
              "    }\n",
              "  </style>\n",
              "\n",
              "    <script>\n",
              "      const buttonEl =\n",
              "        document.querySelector('#df-65269f48-8cf4-4e6a-85ac-6fb149b93911 button.colab-df-convert');\n",
              "      buttonEl.style.display =\n",
              "        google.colab.kernel.accessAllowed ? 'block' : 'none';\n",
              "\n",
              "      async function convertToInteractive(key) {\n",
              "        const element = document.querySelector('#df-65269f48-8cf4-4e6a-85ac-6fb149b93911');\n",
              "        const dataTable =\n",
              "          await google.colab.kernel.invokeFunction('convertToInteractive',\n",
              "                                                    [key], {});\n",
              "        if (!dataTable) return;\n",
              "\n",
              "        const docLinkHtml = 'Like what you see? Visit the ' +\n",
              "          '<a target=\"_blank\" href=https://colab.research.google.com/notebooks/data_table.ipynb>data table notebook</a>'\n",
              "          + ' to learn more about interactive tables.';\n",
              "        element.innerHTML = '';\n",
              "        dataTable['output_type'] = 'display_data';\n",
              "        await google.colab.output.renderOutput(dataTable, element);\n",
              "        const docLink = document.createElement('div');\n",
              "        docLink.innerHTML = docLinkHtml;\n",
              "        element.appendChild(docLink);\n",
              "      }\n",
              "    </script>\n",
              "  </div>\n",
              "\n",
              "\n",
              "<div id=\"df-446740b1-fbd3-499b-be8f-9b5e829246ad\">\n",
              "  <button class=\"colab-df-quickchart\" onclick=\"quickchart('df-446740b1-fbd3-499b-be8f-9b5e829246ad')\"\n",
              "            title=\"Suggest charts\"\n",
              "            style=\"display:none;\">\n",
              "\n",
              "<svg xmlns=\"http://www.w3.org/2000/svg\" height=\"24px\"viewBox=\"0 0 24 24\"\n",
              "     width=\"24px\">\n",
              "    <g>\n",
              "        <path d=\"M19 3H5c-1.1 0-2 .9-2 2v14c0 1.1.9 2 2 2h14c1.1 0 2-.9 2-2V5c0-1.1-.9-2-2-2zM9 17H7v-7h2v7zm4 0h-2V7h2v10zm4 0h-2v-4h2v4z\"/>\n",
              "    </g>\n",
              "</svg>\n",
              "  </button>\n",
              "\n",
              "<style>\n",
              "  .colab-df-quickchart {\n",
              "      --bg-color: #E8F0FE;\n",
              "      --fill-color: #1967D2;\n",
              "      --hover-bg-color: #E2EBFA;\n",
              "      --hover-fill-color: #174EA6;\n",
              "      --disabled-fill-color: #AAA;\n",
              "      --disabled-bg-color: #DDD;\n",
              "  }\n",
              "\n",
              "  [theme=dark] .colab-df-quickchart {\n",
              "      --bg-color: #3B4455;\n",
              "      --fill-color: #D2E3FC;\n",
              "      --hover-bg-color: #434B5C;\n",
              "      --hover-fill-color: #FFFFFF;\n",
              "      --disabled-bg-color: #3B4455;\n",
              "      --disabled-fill-color: #666;\n",
              "  }\n",
              "\n",
              "  .colab-df-quickchart {\n",
              "    background-color: var(--bg-color);\n",
              "    border: none;\n",
              "    border-radius: 50%;\n",
              "    cursor: pointer;\n",
              "    display: none;\n",
              "    fill: var(--fill-color);\n",
              "    height: 32px;\n",
              "    padding: 0;\n",
              "    width: 32px;\n",
              "  }\n",
              "\n",
              "  .colab-df-quickchart:hover {\n",
              "    background-color: var(--hover-bg-color);\n",
              "    box-shadow: 0 1px 2px rgba(60, 64, 67, 0.3), 0 1px 3px 1px rgba(60, 64, 67, 0.15);\n",
              "    fill: var(--button-hover-fill-color);\n",
              "  }\n",
              "\n",
              "  .colab-df-quickchart-complete:disabled,\n",
              "  .colab-df-quickchart-complete:disabled:hover {\n",
              "    background-color: var(--disabled-bg-color);\n",
              "    fill: var(--disabled-fill-color);\n",
              "    box-shadow: none;\n",
              "  }\n",
              "\n",
              "  .colab-df-spinner {\n",
              "    border: 2px solid var(--fill-color);\n",
              "    border-color: transparent;\n",
              "    border-bottom-color: var(--fill-color);\n",
              "    animation:\n",
              "      spin 1s steps(1) infinite;\n",
              "  }\n",
              "\n",
              "  @keyframes spin {\n",
              "    0% {\n",
              "      border-color: transparent;\n",
              "      border-bottom-color: var(--fill-color);\n",
              "      border-left-color: var(--fill-color);\n",
              "    }\n",
              "    20% {\n",
              "      border-color: transparent;\n",
              "      border-left-color: var(--fill-color);\n",
              "      border-top-color: var(--fill-color);\n",
              "    }\n",
              "    30% {\n",
              "      border-color: transparent;\n",
              "      border-left-color: var(--fill-color);\n",
              "      border-top-color: var(--fill-color);\n",
              "      border-right-color: var(--fill-color);\n",
              "    }\n",
              "    40% {\n",
              "      border-color: transparent;\n",
              "      border-right-color: var(--fill-color);\n",
              "      border-top-color: var(--fill-color);\n",
              "    }\n",
              "    60% {\n",
              "      border-color: transparent;\n",
              "      border-right-color: var(--fill-color);\n",
              "    }\n",
              "    80% {\n",
              "      border-color: transparent;\n",
              "      border-right-color: var(--fill-color);\n",
              "      border-bottom-color: var(--fill-color);\n",
              "    }\n",
              "    90% {\n",
              "      border-color: transparent;\n",
              "      border-bottom-color: var(--fill-color);\n",
              "    }\n",
              "  }\n",
              "</style>\n",
              "\n",
              "  <script>\n",
              "    async function quickchart(key) {\n",
              "      const quickchartButtonEl =\n",
              "        document.querySelector('#' + key + ' button');\n",
              "      quickchartButtonEl.disabled = true;  // To prevent multiple clicks.\n",
              "      quickchartButtonEl.classList.add('colab-df-spinner');\n",
              "      try {\n",
              "        const charts = await google.colab.kernel.invokeFunction(\n",
              "            'suggestCharts', [key], {});\n",
              "      } catch (error) {\n",
              "        console.error('Error during call to suggestCharts:', error);\n",
              "      }\n",
              "      quickchartButtonEl.classList.remove('colab-df-spinner');\n",
              "      quickchartButtonEl.classList.add('colab-df-quickchart-complete');\n",
              "    }\n",
              "    (() => {\n",
              "      let quickchartButtonEl =\n",
              "        document.querySelector('#df-446740b1-fbd3-499b-be8f-9b5e829246ad button');\n",
              "      quickchartButtonEl.style.display =\n",
              "        google.colab.kernel.accessAllowed ? 'block' : 'none';\n",
              "    })();\n",
              "  </script>\n",
              "</div>\n",
              "\n",
              "    </div>\n",
              "  </div>\n"
            ],
            "application/vnd.google.colaboratory.intrinsic+json": {
              "type": "dataframe",
              "variable_name": "df"
            }
          },
          "metadata": {},
          "execution_count": 1
        }
      ],
      "source": [
        "import pandas as pd\n",
        "import numpy as np\n",
        "from sklearn.model_selection import train_test_split\n",
        "\n",
        "df = pd.read_csv('/content/2023_crash_data.csv')\n",
        "df.head()"
      ]
    },
    {
      "cell_type": "code",
      "source": [
        "df.info(), df.describe()"
      ],
      "metadata": {
        "colab": {
          "base_uri": "https://localhost:8080/"
        },
        "id": "agd_Bc-GxgTN",
        "outputId": "0b79baa6-8934-4c2a-cc5c-ba514f734ab3"
      },
      "execution_count": 2,
      "outputs": [
        {
          "output_type": "stream",
          "name": "stdout",
          "text": [
            "<class 'pandas.core.frame.DataFrame'>\n",
            "RangeIndex: 4543 entries, 0 to 4542\n",
            "Data columns (total 33 columns):\n",
            " #   Column                     Non-Null Count  Dtype  \n",
            "---  ------                     --------------  -----  \n",
            " 0   Unnamed: 0                 4543 non-null   int64  \n",
            " 1   CrashFactId                4543 non-null   int64  \n",
            " 2   Name                       4543 non-null   object \n",
            " 3   MinorInjuries              4543 non-null   int64  \n",
            " 4   ModerateInjuries           4543 non-null   int64  \n",
            " 5   SevereInjuries             4543 non-null   int64  \n",
            " 6   FatalInjuries              4543 non-null   int64  \n",
            " 7   TcrNumber                  4543 non-null   object \n",
            " 8   CityDamageFlag             4543 non-null   bool   \n",
            " 9   ShortFormFlag              4543 non-null   bool   \n",
            " 10  Distance                   4289 non-null   float64\n",
            " 11  CrashDateTime              4543 non-null   object \n",
            " 12  PedestrianAction           4543 non-null   object \n",
            " 13  RoadwaySurface             4543 non-null   object \n",
            " 14  RoadwayCondition           4543 non-null   object \n",
            " 15  Lighting                   4543 non-null   object \n",
            " 16  PrimaryCollisionFactor     4543 non-null   object \n",
            " 17  TrafficControl             4543 non-null   object \n",
            " 18  Weather                    4543 non-null   object \n",
            " 19  CollisionType              4543 non-null   object \n",
            " 20  ProximityToIntersection    4543 non-null   object \n",
            " 21  VehicleInvolvedWith        4543 non-null   object \n",
            " 22  PedestrianDirectionFrom    4543 non-null   object \n",
            " 23  PedestrianDirectionTo      4543 non-null   object \n",
            " 24  DirectionFromIntersection  4543 non-null   object \n",
            " 25  Comment                    963 non-null    object \n",
            " 26  SpeedingFlag               4543 non-null   bool   \n",
            " 27  HitAndRunFlag              4543 non-null   bool   \n",
            " 28  IntersectionNumber         4543 non-null   int64  \n",
            " 29  AStreetName                4543 non-null   object \n",
            " 30  BStreetName                4543 non-null   object \n",
            " 31  Latitude                   4543 non-null   float64\n",
            " 32  Longitude                  4543 non-null   float64\n",
            "dtypes: bool(4), float64(3), int64(7), object(19)\n",
            "memory usage: 1.0+ MB\n"
          ]
        },
        {
          "output_type": "execute_result",
          "data": {
            "text/plain": [
              "(None,\n",
              "          Unnamed: 0    CrashFactId  MinorInjuries  ModerateInjuries  \\\n",
              " count   4543.000000    4543.000000    4543.000000       4543.000000   \n",
              " mean    5744.967643  698918.152983       0.456747          0.155624   \n",
              " std     3282.472029    7949.561790       0.767465          0.419414   \n",
              " min        0.000000  689226.000000       0.000000          0.000000   \n",
              " 25%     2873.500000  694080.500000       0.000000          0.000000   \n",
              " 50%     5785.000000  696196.000000       0.000000          0.000000   \n",
              " 75%     8604.500000  699324.500000       1.000000          0.000000   \n",
              " max    11495.000000  723624.000000      11.000000          5.000000   \n",
              " \n",
              "        SevereInjuries  FatalInjuries     Distance  IntersectionNumber  \\\n",
              " count     4543.000000    4543.000000  4289.000000         4543.000000   \n",
              " mean         0.047105       0.011226    80.024948        65441.141316   \n",
              " std          0.222035       0.109468   194.991079        39226.475858   \n",
              " min          0.000000       0.000000     0.000000         1121.000000   \n",
              " 25%          0.000000       0.000000     0.000000        32531.500000   \n",
              " 50%          0.000000       0.000000    22.000000        64283.000000   \n",
              " 75%          0.000000       0.000000    74.000000        95886.000000   \n",
              " max          3.000000       2.000000  4798.000000       200533.000000   \n",
              " \n",
              "           Latitude    Longitude  \n",
              " count  4543.000000  4543.000000  \n",
              " mean     37.318983  -121.871331  \n",
              " std       0.042588     0.050086  \n",
              " min      37.167437  -122.032269  \n",
              " 25%      37.294469  -121.900593  \n",
              " 50%      37.323073  -121.870851  \n",
              " 75%      37.347285  -121.834863  \n",
              " max      37.432801  -121.688838  )"
            ]
          },
          "metadata": {},
          "execution_count": 2
        }
      ]
    },
    {
      "cell_type": "code",
      "source": [
        "df['TrafficControl'].value_counts()"
      ],
      "metadata": {
        "colab": {
          "base_uri": "https://localhost:8080/",
          "height": 272
        },
        "id": "0flMzWPtI2Qq",
        "outputId": "0651de8c-b995-4369-b5bf-599c8a72045b"
      },
      "execution_count": 3,
      "outputs": [
        {
          "output_type": "execute_result",
          "data": {
            "text/plain": [
              "TrafficControl\n",
              "Controls Functioning          2012\n",
              "No Controls Present/Factor    1499\n",
              "Unknown                        977\n",
              "Controls Not Functioning        50\n",
              "Controls Obscured                5\n",
              "Name: count, dtype: int64"
            ],
            "text/html": [
              "<div>\n",
              "<style scoped>\n",
              "    .dataframe tbody tr th:only-of-type {\n",
              "        vertical-align: middle;\n",
              "    }\n",
              "\n",
              "    .dataframe tbody tr th {\n",
              "        vertical-align: top;\n",
              "    }\n",
              "\n",
              "    .dataframe thead th {\n",
              "        text-align: right;\n",
              "    }\n",
              "</style>\n",
              "<table border=\"1\" class=\"dataframe\">\n",
              "  <thead>\n",
              "    <tr style=\"text-align: right;\">\n",
              "      <th></th>\n",
              "      <th>count</th>\n",
              "    </tr>\n",
              "    <tr>\n",
              "      <th>TrafficControl</th>\n",
              "      <th></th>\n",
              "    </tr>\n",
              "  </thead>\n",
              "  <tbody>\n",
              "    <tr>\n",
              "      <th>Controls Functioning</th>\n",
              "      <td>2012</td>\n",
              "    </tr>\n",
              "    <tr>\n",
              "      <th>No Controls Present/Factor</th>\n",
              "      <td>1499</td>\n",
              "    </tr>\n",
              "    <tr>\n",
              "      <th>Unknown</th>\n",
              "      <td>977</td>\n",
              "    </tr>\n",
              "    <tr>\n",
              "      <th>Controls Not Functioning</th>\n",
              "      <td>50</td>\n",
              "    </tr>\n",
              "    <tr>\n",
              "      <th>Controls Obscured</th>\n",
              "      <td>5</td>\n",
              "    </tr>\n",
              "  </tbody>\n",
              "</table>\n",
              "</div><br><label><b>dtype:</b> int64</label>"
            ]
          },
          "metadata": {},
          "execution_count": 3
        }
      ]
    },
    {
      "cell_type": "code",
      "source": [
        "df['CollisionType'].unique()"
      ],
      "metadata": {
        "colab": {
          "base_uri": "https://localhost:8080/"
        },
        "id": "O4QJwfzQykVO",
        "outputId": "871b0456-cfe7-47ee-e5bc-34252895aeff"
      },
      "execution_count": 4,
      "outputs": [
        {
          "output_type": "execute_result",
          "data": {
            "text/plain": [
              "array(['Rear End', 'Sideswipe', 'Vehicle/Pedestrian', 'Other',\n",
              "       'Vehicle/Bike', 'Broadside', 'Head On', 'Hit Object', 'Overturned'],\n",
              "      dtype=object)"
            ]
          },
          "metadata": {},
          "execution_count": 4
        }
      ]
    },
    {
      "cell_type": "code",
      "source": [
        "# label encoding CollisionType\n",
        "from sklearn.preprocessing import LabelEncoder\n",
        "\n",
        "le = LabelEncoder()\n",
        "df['CollisionTypeConverted'] = le.fit_transform(df['CollisionType'])\n",
        "df['CollisionTypeConverted']"
      ],
      "metadata": {
        "colab": {
          "base_uri": "https://localhost:8080/",
          "height": 458
        },
        "id": "N0dJQ2JZEhdL",
        "outputId": "c215d595-74f9-449c-923b-36a3e1eb9215"
      },
      "execution_count": 5,
      "outputs": [
        {
          "output_type": "execute_result",
          "data": {
            "text/plain": [
              "0       5\n",
              "1       5\n",
              "2       6\n",
              "3       8\n",
              "4       3\n",
              "       ..\n",
              "4538    0\n",
              "4539    2\n",
              "4540    3\n",
              "4541    6\n",
              "4542    6\n",
              "Name: CollisionTypeConverted, Length: 4543, dtype: int64"
            ],
            "text/html": [
              "<div>\n",
              "<style scoped>\n",
              "    .dataframe tbody tr th:only-of-type {\n",
              "        vertical-align: middle;\n",
              "    }\n",
              "\n",
              "    .dataframe tbody tr th {\n",
              "        vertical-align: top;\n",
              "    }\n",
              "\n",
              "    .dataframe thead th {\n",
              "        text-align: right;\n",
              "    }\n",
              "</style>\n",
              "<table border=\"1\" class=\"dataframe\">\n",
              "  <thead>\n",
              "    <tr style=\"text-align: right;\">\n",
              "      <th></th>\n",
              "      <th>CollisionTypeConverted</th>\n",
              "    </tr>\n",
              "  </thead>\n",
              "  <tbody>\n",
              "    <tr>\n",
              "      <th>0</th>\n",
              "      <td>5</td>\n",
              "    </tr>\n",
              "    <tr>\n",
              "      <th>1</th>\n",
              "      <td>5</td>\n",
              "    </tr>\n",
              "    <tr>\n",
              "      <th>2</th>\n",
              "      <td>6</td>\n",
              "    </tr>\n",
              "    <tr>\n",
              "      <th>3</th>\n",
              "      <td>8</td>\n",
              "    </tr>\n",
              "    <tr>\n",
              "      <th>4</th>\n",
              "      <td>3</td>\n",
              "    </tr>\n",
              "    <tr>\n",
              "      <th>...</th>\n",
              "      <td>...</td>\n",
              "    </tr>\n",
              "    <tr>\n",
              "      <th>4538</th>\n",
              "      <td>0</td>\n",
              "    </tr>\n",
              "    <tr>\n",
              "      <th>4539</th>\n",
              "      <td>2</td>\n",
              "    </tr>\n",
              "    <tr>\n",
              "      <th>4540</th>\n",
              "      <td>3</td>\n",
              "    </tr>\n",
              "    <tr>\n",
              "      <th>4541</th>\n",
              "      <td>6</td>\n",
              "    </tr>\n",
              "    <tr>\n",
              "      <th>4542</th>\n",
              "      <td>6</td>\n",
              "    </tr>\n",
              "  </tbody>\n",
              "</table>\n",
              "<p>4543 rows × 1 columns</p>\n",
              "</div><br><label><b>dtype:</b> int64</label>"
            ]
          },
          "metadata": {},
          "execution_count": 5
        }
      ]
    },
    {
      "cell_type": "code",
      "source": [
        "df['Lighting'].unique()"
      ],
      "metadata": {
        "id": "apzH1BuVzdyB",
        "outputId": "5e0b96e5-b2d7-4de1-89a2-ce66c63b889d",
        "colab": {
          "base_uri": "https://localhost:8080/"
        }
      },
      "execution_count": 6,
      "outputs": [
        {
          "output_type": "execute_result",
          "data": {
            "text/plain": [
              "array(['Daylight', 'Dark - Street Light', 'Dark - No Street Light',\n",
              "       'Unknown', 'Dusk - Dawn', 'Dark - Street Light Not Functioning'],\n",
              "      dtype=object)"
            ]
          },
          "metadata": {},
          "execution_count": 6
        }
      ]
    },
    {
      "cell_type": "code",
      "source": [
        "# Label encoding for the lighting feature\n",
        "df['LightingConverted'] = le.fit_transform(df['Lighting'])\n",
        "# label encoding for the weather feature\n",
        "df['WeatherConverted'] = le.fit_transform(df['Weather'])\n",
        "# label encoding for the road surface feature\n",
        "df['RoadwayConditionConverted'] = le.fit_transform(df['RoadwayCondition'])"
      ],
      "metadata": {
        "id": "0-dgTtScGDEk"
      },
      "execution_count": 7,
      "outputs": []
    },
    {
      "cell_type": "code",
      "source": [
        "# convert 'MinorInjuries', 'ModerateInjuries', 'SevereInjuries', 'FatalInjuries' columns to a single column\n",
        "df['Severity'] = np.argmax(df[['MinorInjuries', 'ModerateInjuries', 'SevereInjuries', 'FatalInjuries']], axis=1)\n",
        "df['Severity'].describe()"
      ],
      "metadata": {
        "colab": {
          "base_uri": "https://localhost:8080/",
          "height": 335
        },
        "id": "cuWOj4lV0ZXR",
        "outputId": "71a31392-71b6-4111-fee0-c062f0e5c5a1"
      },
      "execution_count": 8,
      "outputs": [
        {
          "output_type": "execute_result",
          "data": {
            "text/plain": [
              "count    4543.000000\n",
              "mean        0.200528\n",
              "std         0.528017\n",
              "min         0.000000\n",
              "25%         0.000000\n",
              "50%         0.000000\n",
              "75%         0.000000\n",
              "max         3.000000\n",
              "Name: Severity, dtype: float64"
            ],
            "text/html": [
              "<div>\n",
              "<style scoped>\n",
              "    .dataframe tbody tr th:only-of-type {\n",
              "        vertical-align: middle;\n",
              "    }\n",
              "\n",
              "    .dataframe tbody tr th {\n",
              "        vertical-align: top;\n",
              "    }\n",
              "\n",
              "    .dataframe thead th {\n",
              "        text-align: right;\n",
              "    }\n",
              "</style>\n",
              "<table border=\"1\" class=\"dataframe\">\n",
              "  <thead>\n",
              "    <tr style=\"text-align: right;\">\n",
              "      <th></th>\n",
              "      <th>Severity</th>\n",
              "    </tr>\n",
              "  </thead>\n",
              "  <tbody>\n",
              "    <tr>\n",
              "      <th>count</th>\n",
              "      <td>4543.000000</td>\n",
              "    </tr>\n",
              "    <tr>\n",
              "      <th>mean</th>\n",
              "      <td>0.200528</td>\n",
              "    </tr>\n",
              "    <tr>\n",
              "      <th>std</th>\n",
              "      <td>0.528017</td>\n",
              "    </tr>\n",
              "    <tr>\n",
              "      <th>min</th>\n",
              "      <td>0.000000</td>\n",
              "    </tr>\n",
              "    <tr>\n",
              "      <th>25%</th>\n",
              "      <td>0.000000</td>\n",
              "    </tr>\n",
              "    <tr>\n",
              "      <th>50%</th>\n",
              "      <td>0.000000</td>\n",
              "    </tr>\n",
              "    <tr>\n",
              "      <th>75%</th>\n",
              "      <td>0.000000</td>\n",
              "    </tr>\n",
              "    <tr>\n",
              "      <th>max</th>\n",
              "      <td>3.000000</td>\n",
              "    </tr>\n",
              "  </tbody>\n",
              "</table>\n",
              "</div><br><label><b>dtype:</b> float64</label>"
            ]
          },
          "metadata": {},
          "execution_count": 8
        }
      ]
    },
    {
      "cell_type": "code",
      "source": [
        "# convert datatype of CrashDateTime column into numerical values\n",
        "\n",
        "def map_hour_to_group(hour):\n",
        "  if hour >= 0 and hour < 4:\n",
        "    return 0\n",
        "  elif hour >= 4 and hour < 8:\n",
        "    return 1\n",
        "  elif hour >= 8 and hour < 12:\n",
        "    return 2\n",
        "  elif hour >= 12 and hour < 16:\n",
        "    return 3\n",
        "  elif hour >=16  and hour < 20:\n",
        "    return 4\n",
        "  elif hour >= 20 and hour < 24:\n",
        "    return 5\n",
        "\n",
        "df['CrashHour'] = pd.to_datetime(df['CrashDateTime']).dt.hour\n",
        "df['CrashHourGroup'] = df['CrashHour'].apply(map_hour_to_group)\n",
        "df['CrashHourGroup']"
      ],
      "metadata": {
        "colab": {
          "base_uri": "https://localhost:8080/",
          "height": 458
        },
        "id": "gPnKCSff8eEH",
        "outputId": "2d13a8ba-d286-47f7-fffd-fd81e757a9f0"
      },
      "execution_count": 9,
      "outputs": [
        {
          "output_type": "execute_result",
          "data": {
            "text/plain": [
              "0       3\n",
              "1       5\n",
              "2       5\n",
              "3       3\n",
              "4       2\n",
              "       ..\n",
              "4538    4\n",
              "4539    5\n",
              "4540    5\n",
              "4541    3\n",
              "4542    4\n",
              "Name: CrashHourGroup, Length: 4543, dtype: int64"
            ],
            "text/html": [
              "<div>\n",
              "<style scoped>\n",
              "    .dataframe tbody tr th:only-of-type {\n",
              "        vertical-align: middle;\n",
              "    }\n",
              "\n",
              "    .dataframe tbody tr th {\n",
              "        vertical-align: top;\n",
              "    }\n",
              "\n",
              "    .dataframe thead th {\n",
              "        text-align: right;\n",
              "    }\n",
              "</style>\n",
              "<table border=\"1\" class=\"dataframe\">\n",
              "  <thead>\n",
              "    <tr style=\"text-align: right;\">\n",
              "      <th></th>\n",
              "      <th>CrashHourGroup</th>\n",
              "    </tr>\n",
              "  </thead>\n",
              "  <tbody>\n",
              "    <tr>\n",
              "      <th>0</th>\n",
              "      <td>3</td>\n",
              "    </tr>\n",
              "    <tr>\n",
              "      <th>1</th>\n",
              "      <td>5</td>\n",
              "    </tr>\n",
              "    <tr>\n",
              "      <th>2</th>\n",
              "      <td>5</td>\n",
              "    </tr>\n",
              "    <tr>\n",
              "      <th>3</th>\n",
              "      <td>3</td>\n",
              "    </tr>\n",
              "    <tr>\n",
              "      <th>4</th>\n",
              "      <td>2</td>\n",
              "    </tr>\n",
              "    <tr>\n",
              "      <th>...</th>\n",
              "      <td>...</td>\n",
              "    </tr>\n",
              "    <tr>\n",
              "      <th>4538</th>\n",
              "      <td>4</td>\n",
              "    </tr>\n",
              "    <tr>\n",
              "      <th>4539</th>\n",
              "      <td>5</td>\n",
              "    </tr>\n",
              "    <tr>\n",
              "      <th>4540</th>\n",
              "      <td>5</td>\n",
              "    </tr>\n",
              "    <tr>\n",
              "      <th>4541</th>\n",
              "      <td>3</td>\n",
              "    </tr>\n",
              "    <tr>\n",
              "      <th>4542</th>\n",
              "      <td>4</td>\n",
              "    </tr>\n",
              "  </tbody>\n",
              "</table>\n",
              "<p>4543 rows × 1 columns</p>\n",
              "</div><br><label><b>dtype:</b> int64</label>"
            ]
          },
          "metadata": {},
          "execution_count": 9
        }
      ]
    },
    {
      "cell_type": "code",
      "source": [
        "# Calculating correlation between hit and run flag and severity\n",
        "from scipy.stats import pointbiserialr\n",
        "\n",
        "correlation, p_value = pointbiserialr(df['HitAndRunFlag'], df['Severity'])\n",
        "# correlation = df['Severity'].corr(df['HitAndRunFlag'], method='spearman')\n",
        "\n",
        "print(\"Correlation:\", correlation)\n",
        "print(\"P-value:\", p_value)"
      ],
      "metadata": {
        "colab": {
          "base_uri": "https://localhost:8080/"
        },
        "id": "tlAqo5T8zSay",
        "outputId": "9f03dcfd-cd4b-44c1-963b-8cb5dcb707a8"
      },
      "execution_count": 10,
      "outputs": [
        {
          "output_type": "stream",
          "name": "stdout",
          "text": [
            "Correlation: -0.03045301771439109\n",
            "P-value: 0.04012121383516377\n"
          ]
        }
      ]
    },
    {
      "cell_type": "code",
      "source": [
        "# Calculating correlation between hit and run flag and MinorInjuries\n",
        "from scipy.stats import pearsonr\n",
        "\n",
        "correlation, p_value = pearsonr(df['HitAndRunFlag'], df['MinorInjuries'])\n",
        "\n",
        "print(\"Phi coefficient:\", correlation)\n",
        "print(\"P-value:\", p_value)"
      ],
      "metadata": {
        "colab": {
          "base_uri": "https://localhost:8080/"
        },
        "id": "JeboJm3JCJLs",
        "outputId": "2f9871f7-bff3-48c9-a432-a9d6d52aa217"
      },
      "execution_count": 11,
      "outputs": [
        {
          "output_type": "stream",
          "name": "stdout",
          "text": [
            "Phi coefficient: -0.14639331883601817\n",
            "P-value: 3.4789673409539346e-23\n"
          ]
        }
      ]
    },
    {
      "cell_type": "code",
      "source": [
        "# Calculating correlation between hit and run flag and ModerateInjuries\n",
        "correlation, p_value = pearsonr(df['HitAndRunFlag'], df['ModerateInjuries'])\n",
        "\n",
        "print(\"Phi coefficient:\", correlation)\n",
        "print(\"P-value:\", p_value)"
      ],
      "metadata": {
        "colab": {
          "base_uri": "https://localhost:8080/"
        },
        "id": "2EYlUOAWCkuM",
        "outputId": "0bed047c-6c8f-4d35-fcd0-dd901dde83a8"
      },
      "execution_count": 12,
      "outputs": [
        {
          "output_type": "stream",
          "name": "stdout",
          "text": [
            "Phi coefficient: -0.057019135826841025\n",
            "P-value: 0.00012042363670684706\n"
          ]
        }
      ]
    },
    {
      "cell_type": "code",
      "source": [
        "# calculate correlation with city damage flag\n",
        "correlation, p_value = pearsonr(df['HitAndRunFlag'], df['CityDamageFlag'])\n",
        "\n",
        "print(\"Phi coefficient:\", correlation)\n",
        "print(\"P-value:\", p_value)"
      ],
      "metadata": {
        "colab": {
          "base_uri": "https://localhost:8080/"
        },
        "id": "MGEVg7mezGFP",
        "outputId": "4c425d3c-1c29-47fc-8f36-b1cf8f24b46a"
      },
      "execution_count": 13,
      "outputs": [
        {
          "output_type": "stream",
          "name": "stdout",
          "text": [
            "Phi coefficient: -0.04778260923457401\n",
            "P-value: 0.0012748284379363558\n"
          ]
        }
      ]
    },
    {
      "cell_type": "code",
      "source": [
        "# calculate correlationship with CrashHourGroup\n",
        "correlation, p_value = pointbiserialr(df['CrashHour'], df['HitAndRunFlag'])\n",
        "print(\"Correlation:\", correlation)\n",
        "print(\"P-value:\", p_value)"
      ],
      "metadata": {
        "colab": {
          "base_uri": "https://localhost:8080/"
        },
        "id": "MLCm-bEc5LbV",
        "outputId": "736379a1-ba26-4cbd-97f2-5579f946ae35"
      },
      "execution_count": 14,
      "outputs": [
        {
          "output_type": "stream",
          "name": "stdout",
          "text": [
            "Correlation: 0.009287194973429978\n",
            "P-value: 0.531436479884414\n"
          ]
        }
      ]
    },
    {
      "cell_type": "code",
      "source": [
        "# calculate correlationship with CollisionType\n",
        "correlation, p_value = pointbiserialr(df['CollisionTypeConverted'], df['HitAndRunFlag'])\n",
        "print(\"Correlation:\", correlation)\n",
        "print(\"P-value:\", p_value)"
      ],
      "metadata": {
        "colab": {
          "base_uri": "https://localhost:8080/"
        },
        "id": "fIY_w9Gc_Rz-",
        "outputId": "ea4ee85b-a7e2-48da-c3f4-d19e42b1bf01"
      },
      "execution_count": 15,
      "outputs": [
        {
          "output_type": "stream",
          "name": "stdout",
          "text": [
            "Correlation: 0.09640085530553452\n",
            "P-value: 7.466728137623564e-11\n"
          ]
        }
      ]
    },
    {
      "cell_type": "code",
      "source": [
        "# calculate correlationship with Lighting\n",
        "correlation, p_value = pointbiserialr(df['LightingConverted'], df['HitAndRunFlag'])\n",
        "print(\"Correlation:\", correlation)\n",
        "print(\"P-value:\", p_value)"
      ],
      "metadata": {
        "colab": {
          "base_uri": "https://localhost:8080/"
        },
        "id": "GVxieAQvGNRL",
        "outputId": "ae4d3963-a0eb-4cac-d7db-71d5e0c578c7"
      },
      "execution_count": 16,
      "outputs": [
        {
          "output_type": "stream",
          "name": "stdout",
          "text": [
            "Correlation: -0.22664559409399912\n",
            "P-value: 5.2059388295387315e-54\n"
          ]
        }
      ]
    },
    {
      "cell_type": "code",
      "source": [],
      "metadata": {
        "id": "qmn3xIlZc1PB"
      },
      "execution_count": 16,
      "outputs": []
    },
    {
      "cell_type": "code",
      "source": [
        "df.columns"
      ],
      "metadata": {
        "colab": {
          "base_uri": "https://localhost:8080/"
        },
        "id": "T3gY2WBdkv_y",
        "outputId": "12acd21a-e300-47e0-dd91-aa877a3fa67c"
      },
      "execution_count": 17,
      "outputs": [
        {
          "output_type": "execute_result",
          "data": {
            "text/plain": [
              "Index(['Unnamed: 0', 'CrashFactId', 'Name', 'MinorInjuries',\n",
              "       'ModerateInjuries', 'SevereInjuries', 'FatalInjuries', 'TcrNumber',\n",
              "       'CityDamageFlag', 'ShortFormFlag', 'Distance', 'CrashDateTime',\n",
              "       'PedestrianAction', 'RoadwaySurface', 'RoadwayCondition', 'Lighting',\n",
              "       'PrimaryCollisionFactor', 'TrafficControl', 'Weather', 'CollisionType',\n",
              "       'ProximityToIntersection', 'VehicleInvolvedWith',\n",
              "       'PedestrianDirectionFrom', 'PedestrianDirectionTo',\n",
              "       'DirectionFromIntersection', 'Comment', 'SpeedingFlag', 'HitAndRunFlag',\n",
              "       'IntersectionNumber', 'AStreetName', 'BStreetName', 'Latitude',\n",
              "       'Longitude', 'CollisionTypeConverted', 'LightingConverted',\n",
              "       'WeatherConverted', 'RoadwayConditionConverted', 'Severity',\n",
              "       'CrashHour', 'CrashHourGroup'],\n",
              "      dtype='object')"
            ]
          },
          "metadata": {},
          "execution_count": 17
        }
      ]
    },
    {
      "cell_type": "code",
      "source": [
        "# setting X and y for the logistic regression\n",
        "feature_cols = ['CollisionTypeConverted', 'Severity', 'CityDamageFlag', 'LightingConverted', 'SpeedingFlag', 'CrashHourGroup', 'RoadwayConditionConverted', 'WeatherConverted']\n",
        "X = df[feature_cols]\n",
        "y = df['HitAndRunFlag']"
      ],
      "metadata": {
        "id": "NvBMzLxVxjFl"
      },
      "execution_count": 18,
      "outputs": []
    },
    {
      "cell_type": "code",
      "source": [
        "# split train and test dataset\n",
        "X_train, X_test, y_train, y_test = train_test_split(X, y, test_size=0.25, random_state=42)"
      ],
      "metadata": {
        "id": "HehNG9gryrA0"
      },
      "execution_count": 19,
      "outputs": []
    },
    {
      "cell_type": "code",
      "source": [
        "# Create and apply logistic regression model\n",
        "from sklearn.linear_model import LogisticRegression\n",
        "\n",
        "# instantiate the model (using the default parameters)\n",
        "lr = LogisticRegression(random_state=42)\n",
        "\n",
        "# fit the model with data\n",
        "lr.fit(X_train, y_train)\n",
        "\n",
        "y_pred = lr.predict(X_test)\n",
        "\n",
        "y_pred"
      ],
      "metadata": {
        "colab": {
          "base_uri": "https://localhost:8080/"
        },
        "id": "73JTUDcyy4f8",
        "outputId": "c6b4b60c-e2d8-4e31-ff34-2b32a461956d",
        "collapsed": true
      },
      "execution_count": 20,
      "outputs": [
        {
          "output_type": "execute_result",
          "data": {
            "text/plain": [
              "array([ True, False, False, ..., False, False, False])"
            ]
          },
          "metadata": {},
          "execution_count": 20
        }
      ]
    },
    {
      "cell_type": "code",
      "source": [
        "# import the metrics class\n",
        "from sklearn.metrics import confusion_matrix, accuracy_score, ConfusionMatrixDisplay\n",
        "\n",
        "accuracy = accuracy_score(y_test, y_pred)*100\n",
        "print(\"Accuracy: \" + str(accuracy))"
      ],
      "metadata": {
        "colab": {
          "base_uri": "https://localhost:8080/"
        },
        "id": "mxkMpEC4zBUY",
        "outputId": "7cb53369-40de-45e7-d182-b7fa8dee22b0"
      },
      "execution_count": 21,
      "outputs": [
        {
          "output_type": "stream",
          "name": "stdout",
          "text": [
            "Accuracy: 75.52816901408451\n"
          ]
        }
      ]
    },
    {
      "cell_type": "code",
      "source": [
        "from sklearn.metrics import accuracy_score, precision_score, recall_score, f1_score\n",
        "\n",
        "\n",
        "print(\"Logistic Regression with (2023 crash dataset)\")\n",
        "# Calculate accuracy\n",
        "accuracy = accuracy_score(y_test, y_pred)\n",
        "print(\"Accuracy:\", accuracy)\n",
        "\n",
        "# Calculate precision\n",
        "precision = precision_score(y_test, y_pred)\n",
        "print(\"Precision:\", precision)\n",
        "\n",
        "# Calculate recall (sensitivity)\n",
        "recall = recall_score(y_test, y_pred)\n",
        "print(\"Recall (Sensitivity):\", recall)\n",
        "\n",
        "# Calculate F1-score\n",
        "f1 = f1_score(y_test, y_pred)\n",
        "print(\"F1-Score:\", f1)"
      ],
      "metadata": {
        "colab": {
          "base_uri": "https://localhost:8080/"
        },
        "id": "irFtd9cf4Zwl",
        "outputId": "8a06b794-61ff-4114-caa2-d32b8c771d60"
      },
      "execution_count": 25,
      "outputs": [
        {
          "output_type": "stream",
          "name": "stdout",
          "text": [
            "Logistic Regression with (2023 crash dataset)\n",
            "Accuracy: 0.7552816901408451\n",
            "Precision: 0.625\n",
            "Recall (Sensitivity): 0.10344827586206896\n",
            "F1-Score: 0.17751479289940827\n"
          ]
        }
      ]
    },
    {
      "cell_type": "code",
      "source": [
        "import matplotlib.pyplot as plt\n",
        "cm = confusion_matrix(y_test, y_pred, labels=lr.classes_)\n",
        "disp = ConfusionMatrixDisplay(confusion_matrix=cm,\n",
        "                              display_labels=lr.classes_)\n",
        "disp.plot()"
      ],
      "metadata": {
        "colab": {
          "base_uri": "https://localhost:8080/",
          "height": 467
        },
        "id": "9UFAynspZWxU",
        "outputId": "1ba018cc-ab56-4b25-9df5-e4287ecf67eb"
      },
      "execution_count": 23,
      "outputs": [
        {
          "output_type": "execute_result",
          "data": {
            "text/plain": [
              "<sklearn.metrics._plot.confusion_matrix.ConfusionMatrixDisplay at 0x7a015cfd8e50>"
            ]
          },
          "metadata": {},
          "execution_count": 23
        },
        {
          "output_type": "display_data",
          "data": {
            "text/plain": [
              "<Figure size 640x480 with 2 Axes>"
            ],
            "image/png": "[encoded data removed]"
          },
          "metadata": {}
        }
      ]
    },
    {
      "cell_type": "code",
      "source": [
        "importances = lr.coef_[0]\n",
        "feature_names = X_train.columns\n",
        "\n",
        "indices = np.argsort(np.abs(importances))[::-1]\n",
        "\n",
        "plt.figure(figsize=(10, 6))\n",
        "plt.title('Feature Importances (Logistic Regression)')\n",
        "plt.barh(range(len(indices)), importances[indices], color='b', align='center')\n",
        "plt.yticks(range(len(indices)), [feature_names[i] for i in indices])\n",
        "plt.xlabel('Coefficient Value')\n",
        "plt.show()"
      ],
      "metadata": {
        "id": "GdeAVwPFSZCg",
        "outputId": "9781b557-e3fd-4cd9-e8bf-626f27ad6c3a",
        "colab": {
          "base_uri": "https://localhost:8080/",
          "height": 564
        }
      },
      "execution_count": 24,
      "outputs": [
        {
          "output_type": "display_data",
          "data": {
            "text/plain": [
              "<Figure size 1000x600 with 1 Axes>"
            ],
            "image/png": "[encoded data removed]"
          },
          "metadata": {}
        }
      ]
    },
    {
      "cell_type": "code",
      "source": [
        "df['HitAndRunFlag'].value_counts()"
      ],
      "metadata": {
        "id": "F-qkgdbxZhYP",
        "colab": {
          "base_uri": "https://localhost:8080/",
          "height": 178
        },
        "outputId": "b791f129-2380-4428-a070-a27f3cbb1df4"
      },
      "execution_count": null,
      "outputs": [
        {
          "output_type": "execute_result",
          "data": {
            "text/plain": [
              "HitAndRunFlag\n",
              "False    3476\n",
              "True     1067\n",
              "Name: count, dtype: int64"
            ],
            "text/html": [
              "<div>\n",
              "<style scoped>\n",
              "    .dataframe tbody tr th:only-of-type {\n",
              "        vertical-align: middle;\n",
              "    }\n",
              "\n",
              "    .dataframe tbody tr th {\n",
              "        vertical-align: top;\n",
              "    }\n",
              "\n",
              "    .dataframe thead th {\n",
              "        text-align: right;\n",
              "    }\n",
              "</style>\n",
              "<table border=\"1\" class=\"dataframe\">\n",
              "  <thead>\n",
              "    <tr style=\"text-align: right;\">\n",
              "      <th></th>\n",
              "      <th>count</th>\n",
              "    </tr>\n",
              "    <tr>\n",
              "      <th>HitAndRunFlag</th>\n",
              "      <th></th>\n",
              "    </tr>\n",
              "  </thead>\n",
              "  <tbody>\n",
              "    <tr>\n",
              "      <th>False</th>\n",
              "      <td>3476</td>\n",
              "    </tr>\n",
              "    <tr>\n",
              "      <th>True</th>\n",
              "      <td>1067</td>\n",
              "    </tr>\n",
              "  </tbody>\n",
              "</table>\n",
              "</div><br><label><b>dtype:</b> int64</label>"
            ]
          },
          "metadata": {},
          "execution_count": 30
        }
      ]
    },
    {
      "cell_type": "code",
      "source": [],
      "metadata": {
        "id": "sqWm-kw1E_sc"
      },
      "execution_count": null,
      "outputs": []
    }
  ]
}